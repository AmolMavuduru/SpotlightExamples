{
 "cells": [
  {
   "cell_type": "markdown",
   "metadata": {},
   "source": [
    "# Spotlight Recommender Systems"
   ]
  },
  {
   "cell_type": "markdown",
   "metadata": {},
   "source": [
    "## Import Libraries"
   ]
  },
  {
   "cell_type": "code",
   "execution_count": 1,
   "metadata": {},
   "outputs": [],
   "source": [
    "import numpy as np\n",
    "import pandas as pd\n",
    "import matplotlib.pyplot as plt\n",
    "%matplotlib inline"
   ]
  },
  {
   "cell_type": "markdown",
   "metadata": {},
   "source": [
    "## Reading the Data"
   ]
  },
  {
   "cell_type": "code",
   "execution_count": 2,
   "metadata": {},
   "outputs": [
    {
     "name": "stderr",
     "output_type": "stream",
     "text": [
      "/Users/amol/opt/anaconda3/lib/python3.7/site-packages/IPython/core/interactiveshell.py:3063: DtypeWarning: Columns (10) have mixed types.Specify dtype option on import or set low_memory=False.\n",
      "  interactivity=interactivity, compiler=compiler, result=result)\n"
     ]
    },
    {
     "data": {
      "text/html": [
       "<div>\n",
       "<style scoped>\n",
       "    .dataframe tbody tr th:only-of-type {\n",
       "        vertical-align: middle;\n",
       "    }\n",
       "\n",
       "    .dataframe tbody tr th {\n",
       "        vertical-align: top;\n",
       "    }\n",
       "\n",
       "    .dataframe thead th {\n",
       "        text-align: right;\n",
       "    }\n",
       "</style>\n",
       "<table border=\"1\" class=\"dataframe\">\n",
       "  <thead>\n",
       "    <tr style=\"text-align: right;\">\n",
       "      <th></th>\n",
       "      <th>userId</th>\n",
       "      <th>movieId</th>\n",
       "      <th>rating</th>\n",
       "      <th>timestamp</th>\n",
       "    </tr>\n",
       "  </thead>\n",
       "  <tbody>\n",
       "    <tr>\n",
       "      <th>0</th>\n",
       "      <td>1</td>\n",
       "      <td>31</td>\n",
       "      <td>2.5</td>\n",
       "      <td>1260759144</td>\n",
       "    </tr>\n",
       "    <tr>\n",
       "      <th>1</th>\n",
       "      <td>1</td>\n",
       "      <td>1029</td>\n",
       "      <td>3.0</td>\n",
       "      <td>1260759179</td>\n",
       "    </tr>\n",
       "    <tr>\n",
       "      <th>2</th>\n",
       "      <td>1</td>\n",
       "      <td>1061</td>\n",
       "      <td>3.0</td>\n",
       "      <td>1260759182</td>\n",
       "    </tr>\n",
       "    <tr>\n",
       "      <th>3</th>\n",
       "      <td>1</td>\n",
       "      <td>1129</td>\n",
       "      <td>2.0</td>\n",
       "      <td>1260759185</td>\n",
       "    </tr>\n",
       "    <tr>\n",
       "      <th>4</th>\n",
       "      <td>1</td>\n",
       "      <td>1172</td>\n",
       "      <td>4.0</td>\n",
       "      <td>1260759205</td>\n",
       "    </tr>\n",
       "    <tr>\n",
       "      <th>5</th>\n",
       "      <td>1</td>\n",
       "      <td>1263</td>\n",
       "      <td>2.0</td>\n",
       "      <td>1260759151</td>\n",
       "    </tr>\n",
       "    <tr>\n",
       "      <th>6</th>\n",
       "      <td>1</td>\n",
       "      <td>1287</td>\n",
       "      <td>2.0</td>\n",
       "      <td>1260759187</td>\n",
       "    </tr>\n",
       "    <tr>\n",
       "      <th>7</th>\n",
       "      <td>1</td>\n",
       "      <td>1293</td>\n",
       "      <td>2.0</td>\n",
       "      <td>1260759148</td>\n",
       "    </tr>\n",
       "    <tr>\n",
       "      <th>8</th>\n",
       "      <td>1</td>\n",
       "      <td>1339</td>\n",
       "      <td>3.5</td>\n",
       "      <td>1260759125</td>\n",
       "    </tr>\n",
       "    <tr>\n",
       "      <th>9</th>\n",
       "      <td>1</td>\n",
       "      <td>1343</td>\n",
       "      <td>2.0</td>\n",
       "      <td>1260759131</td>\n",
       "    </tr>\n",
       "  </tbody>\n",
       "</table>\n",
       "</div>"
      ],
      "text/plain": [
       "   userId  movieId  rating   timestamp\n",
       "0       1       31     2.5  1260759144\n",
       "1       1     1029     3.0  1260759179\n",
       "2       1     1061     3.0  1260759182\n",
       "3       1     1129     2.0  1260759185\n",
       "4       1     1172     4.0  1260759205\n",
       "5       1     1263     2.0  1260759151\n",
       "6       1     1287     2.0  1260759187\n",
       "7       1     1293     2.0  1260759148\n",
       "8       1     1339     3.5  1260759125\n",
       "9       1     1343     2.0  1260759131"
      ]
     },
     "execution_count": 2,
     "metadata": {},
     "output_type": "execute_result"
    }
   ],
   "source": [
    "ratings_data = pd.read_csv('./data/ratings_small.csv.zip')\n",
    "metadata = pd.read_csv('./data/movies_metadata.csv.zip')\n",
    "links_data = pd.read_csv('./data/links.csv')\n",
    "ratings_data.head(10)"
   ]
  },
  {
   "cell_type": "code",
   "execution_count": 3,
   "metadata": {},
   "outputs": [
    {
     "name": "stdout",
     "output_type": "stream",
     "text": [
      "<class 'pandas.core.frame.DataFrame'>\n",
      "RangeIndex: 100004 entries, 0 to 100003\n",
      "Data columns (total 4 columns):\n",
      " #   Column     Non-Null Count   Dtype  \n",
      "---  ------     --------------   -----  \n",
      " 0   userId     100004 non-null  int64  \n",
      " 1   movieId    100004 non-null  int64  \n",
      " 2   rating     100004 non-null  float64\n",
      " 3   timestamp  100004 non-null  int64  \n",
      "dtypes: float64(1), int64(3)\n",
      "memory usage: 3.1 MB\n"
     ]
    }
   ],
   "source": [
    "ratings_data.info()"
   ]
  },
  {
   "cell_type": "code",
   "execution_count": 4,
   "metadata": {},
   "outputs": [
    {
     "name": "stdout",
     "output_type": "stream",
     "text": [
      "<class 'pandas.core.frame.DataFrame'>\n",
      "RangeIndex: 45466 entries, 0 to 45465\n",
      "Data columns (total 24 columns):\n",
      " #   Column                 Non-Null Count  Dtype  \n",
      "---  ------                 --------------  -----  \n",
      " 0   adult                  45466 non-null  object \n",
      " 1   belongs_to_collection  4494 non-null   object \n",
      " 2   budget                 45466 non-null  object \n",
      " 3   genres                 45466 non-null  object \n",
      " 4   homepage               7782 non-null   object \n",
      " 5   id                     45466 non-null  object \n",
      " 6   imdb_id                45449 non-null  object \n",
      " 7   original_language      45455 non-null  object \n",
      " 8   original_title         45466 non-null  object \n",
      " 9   overview               44512 non-null  object \n",
      " 10  popularity             45461 non-null  object \n",
      " 11  poster_path            45080 non-null  object \n",
      " 12  production_companies   45463 non-null  object \n",
      " 13  production_countries   45463 non-null  object \n",
      " 14  release_date           45379 non-null  object \n",
      " 15  revenue                45460 non-null  float64\n",
      " 16  runtime                45203 non-null  float64\n",
      " 17  spoken_languages       45460 non-null  object \n",
      " 18  status                 45379 non-null  object \n",
      " 19  tagline                20412 non-null  object \n",
      " 20  title                  45460 non-null  object \n",
      " 21  video                  45460 non-null  object \n",
      " 22  vote_average           45460 non-null  float64\n",
      " 23  vote_count             45460 non-null  float64\n",
      "dtypes: float64(4), object(20)\n",
      "memory usage: 8.3+ MB\n"
     ]
    }
   ],
   "source": [
    "metadata.info()"
   ]
  },
  {
   "cell_type": "code",
   "execution_count": 5,
   "metadata": {},
   "outputs": [
    {
     "name": "stdout",
     "output_type": "stream",
     "text": [
      "<class 'pandas.core.frame.DataFrame'>\n",
      "RangeIndex: 45843 entries, 0 to 45842\n",
      "Data columns (total 3 columns):\n",
      " #   Column   Non-Null Count  Dtype  \n",
      "---  ------   --------------  -----  \n",
      " 0   movieId  45843 non-null  int64  \n",
      " 1   imdbId   45843 non-null  int64  \n",
      " 2   tmdbId   45624 non-null  float64\n",
      "dtypes: float64(1), int64(2)\n",
      "memory usage: 1.0 MB\n"
     ]
    }
   ],
   "source": [
    "links_data.info()"
   ]
  },
  {
   "cell_type": "markdown",
   "metadata": {},
   "source": [
    "## Preprocessing the Data"
   ]
  },
  {
   "cell_type": "code",
   "execution_count": 6,
   "metadata": {},
   "outputs": [],
   "source": [
    "ratings_data['userId'] = ratings_data['userId'].astype('int32')"
   ]
  },
  {
   "cell_type": "code",
   "execution_count": 7,
   "metadata": {},
   "outputs": [],
   "source": [
    "metadata = metadata[metadata['imdb_id'].notna()]"
   ]
  },
  {
   "cell_type": "code",
   "execution_count": 8,
   "metadata": {},
   "outputs": [],
   "source": [
    "def remove_characters(string):\n",
    "    \n",
    "    return ''.join(filter(str.isdigit, string))"
   ]
  },
  {
   "cell_type": "code",
   "execution_count": 9,
   "metadata": {},
   "outputs": [
    {
     "name": "stderr",
     "output_type": "stream",
     "text": [
      "/Users/amol/opt/anaconda3/lib/python3.7/site-packages/ipykernel_launcher.py:1: SettingWithCopyWarning: \n",
      "A value is trying to be set on a copy of a slice from a DataFrame.\n",
      "Try using .loc[row_indexer,col_indexer] = value instead\n",
      "\n",
      "See the caveats in the documentation: https://pandas.pydata.org/pandas-docs/stable/user_guide/indexing.html#returning-a-view-versus-a-copy\n",
      "  \"\"\"Entry point for launching an IPython kernel.\n"
     ]
    }
   ],
   "source": [
    "metadata['imdb_id'] = metadata['imdb_id'].apply(lambda x: int(remove_characters(str(x))))"
   ]
  },
  {
   "cell_type": "code",
   "execution_count": 10,
   "metadata": {},
   "outputs": [
    {
     "name": "stdout",
     "output_type": "stream",
     "text": [
      "<class 'pandas.core.frame.DataFrame'>\n",
      "Int64Index: 45383 entries, 0 to 45382\n",
      "Data columns (total 27 columns):\n",
      " #   Column                 Non-Null Count  Dtype  \n",
      "---  ------                 --------------  -----  \n",
      " 0   adult                  45383 non-null  object \n",
      " 1   belongs_to_collection  4486 non-null   object \n",
      " 2   budget                 45383 non-null  object \n",
      " 3   genres                 45383 non-null  object \n",
      " 4   homepage               7765 non-null   object \n",
      " 5   id                     45383 non-null  object \n",
      " 6   imdb_id                45383 non-null  int64  \n",
      " 7   original_language      45372 non-null  object \n",
      " 8   original_title         45383 non-null  object \n",
      " 9   overview               44433 non-null  object \n",
      " 10  popularity             45380 non-null  object \n",
      " 11  poster_path            45005 non-null  object \n",
      " 12  production_companies   45380 non-null  object \n",
      " 13  production_countries   45380 non-null  object \n",
      " 14  release_date           45302 non-null  object \n",
      " 15  revenue                45380 non-null  float64\n",
      " 16  runtime                45125 non-null  float64\n",
      " 17  spoken_languages       45380 non-null  object \n",
      " 18  status                 45300 non-null  object \n",
      " 19  tagline                20388 non-null  object \n",
      " 20  title                  45380 non-null  object \n",
      " 21  video                  45380 non-null  object \n",
      " 22  vote_average           45380 non-null  float64\n",
      " 23  vote_count             45380 non-null  float64\n",
      " 24  movieId                45383 non-null  int64  \n",
      " 25  imdbId                 45383 non-null  int64  \n",
      " 26  tmdbId                 45383 non-null  float64\n",
      "dtypes: float64(5), int64(3), object(19)\n",
      "memory usage: 9.7+ MB\n"
     ]
    }
   ],
   "source": [
    "full_metadata = pd.merge(metadata, links_data, left_on='imdb_id', right_on='imdbId')\n",
    "full_metadata.info()"
   ]
  },
  {
   "cell_type": "markdown",
   "metadata": {},
   "source": [
    "## Exploratory Data Analysis"
   ]
  },
  {
   "cell_type": "code",
   "execution_count": 11,
   "metadata": {},
   "outputs": [],
   "source": [
    "from spotlight.interactions import Interactions\n",
    "\n",
    "dataset = Interactions(user_ids=ratings_data['userId'].values,\n",
    "                       item_ids=ratings_data['movieId'].values,\n",
    "                       ratings=ratings_data['rating'].values,\n",
    "                       timestamps=ratings_data['timestamp'].values)"
   ]
  },
  {
   "cell_type": "markdown",
   "metadata": {},
   "source": [
    "## Training a Matrix Factorization Model"
   ]
  },
  {
   "cell_type": "code",
   "execution_count": 25,
   "metadata": {},
   "outputs": [
    {
     "name": "stdout",
     "output_type": "stream",
     "text": [
      "Epoch 0: loss 4.494929069874945\n",
      "Epoch 1: loss 0.8425834600011973\n",
      "Epoch 2: loss 0.5420750372064997\n",
      "Epoch 3: loss 0.38652444562064103\n",
      "Epoch 4: loss 0.30954678428190163\n",
      "Epoch 5: loss 0.26690390673145314\n",
      "Epoch 6: loss 0.24580617306721325\n",
      "Epoch 7: loss 0.23303465699786075\n",
      "Epoch 8: loss 0.2235499506040965\n",
      "Epoch 9: loss 0.2163570392770579\n",
      "RMSE = 1.1101374661355057\n"
     ]
    }
   ],
   "source": [
    "from spotlight.cross_validation import random_train_test_split\n",
    "from spotlight.evaluation import rmse_score\n",
    "from spotlight.factorization.explicit import ExplicitFactorizationModel\n",
    "\n",
    "train, test = random_train_test_split(dataset)\n",
    "\n",
    "model = ExplicitFactorizationModel(n_iter=10)\n",
    "model.fit(train, verbose=True)\n",
    "\n",
    "rmse = rmse_score(model, test)\n",
    "print('RMSE = ', rmse)"
   ]
  },
  {
   "cell_type": "code",
   "execution_count": null,
   "metadata": {},
   "outputs": [],
   "source": [
    "model.fit(dataset)"
   ]
  },
  {
   "cell_type": "markdown",
   "metadata": {},
   "source": [
    "## Generating Predictions From the Matrix Factorization Model"
   ]
  },
  {
   "cell_type": "code",
   "execution_count": 13,
   "metadata": {},
   "outputs": [
    {
     "data": {
      "text/plain": [
       "array([0.42891726, 2.2079964 , 1.6789076 , ..., 0.24747998, 0.36188596,\n",
       "       1.658421  ], dtype=float32)"
      ]
     },
     "execution_count": 13,
     "metadata": {},
     "output_type": "execute_result"
    }
   ],
   "source": [
    "model.predict(user_ids=1)"
   ]
  },
  {
   "cell_type": "code",
   "execution_count": 14,
   "metadata": {},
   "outputs": [],
   "source": [
    "def get_metadata(movie_id, metadata):\n",
    "    \n",
    "    movie_data = metadata[metadata['movieId'] == movie_id]\n",
    "    return movie_data[['original_title', 'release_date', 'genres']].to_dict(orient='records')\n",
    "\n",
    "def recommend_movies(user_id, metadata, model, n_movies=5):\n",
    "     \n",
    "    pred = model.predict(user_ids=user_id)\n",
    "    indices = np.argpartition(pred, -n_movies)[-n_movies:]\n",
    "    best_movie_ids = indices[np.argsort(pred[indices])]\n",
    "    \n",
    "    return [get_metadata(movie_id + 1, metadata) for movie_id in best_movie_ids]\n",
    "    "
   ]
  },
  {
   "cell_type": "code",
   "execution_count": 15,
   "metadata": {},
   "outputs": [
    {
     "data": {
      "text/plain": [
       "[{'original_title': 'Toy Story',\n",
       "  'release_date': '1995-10-30',\n",
       "  'genres': \"[{'id': 16, 'name': 'Animation'}, {'id': 35, 'name': 'Comedy'}, {'id': 10751, 'name': 'Family'}]\"}]"
      ]
     },
     "execution_count": 15,
     "metadata": {},
     "output_type": "execute_result"
    }
   ],
   "source": [
    "get_metadata(1, full_metadata)"
   ]
  },
  {
   "cell_type": "code",
   "execution_count": 16,
   "metadata": {},
   "outputs": [
    {
     "data": {
      "text/plain": [
       "[[{'original_title': 'Hustler White',\n",
       "   'release_date': '1996-07-19',\n",
       "   'genres': \"[{'id': 10749, 'name': 'Romance'}, {'id': 18, 'name': 'Drama'}]\"}],\n",
       " [{'original_title': 'Cape Fear',\n",
       "   'release_date': '1962-04-12',\n",
       "   'genres': \"[{'id': 18, 'name': 'Drama'}, {'id': 53, 'name': 'Thriller'}]\"}],\n",
       " [{'original_title': 'A Face in the Crowd',\n",
       "   'release_date': '1957-10-17',\n",
       "   'genres': \"[{'id': 18, 'name': 'Drama'}]\"}],\n",
       " [],\n",
       " [{'original_title': 'Magnolia',\n",
       "   'release_date': '1999-12-08',\n",
       "   'genres': \"[{'id': 18, 'name': 'Drama'}]\"}]]"
      ]
     },
     "execution_count": 16,
     "metadata": {},
     "output_type": "execute_result"
    }
   ],
   "source": [
    "recommend_movies(1, full_metadata, model)"
   ]
  },
  {
   "cell_type": "markdown",
   "metadata": {},
   "source": [
    "## Training a Sequential Model"
   ]
  },
  {
   "cell_type": "code",
   "execution_count": 17,
   "metadata": {},
   "outputs": [
    {
     "name": "stderr",
     "output_type": "stream",
     "text": [
      "/Users/amol/opt/anaconda3/lib/python3.7/site-packages/torch/nn/functional.py:1628: UserWarning: nn.functional.tanh is deprecated. Use torch.tanh instead.\n",
      "  warnings.warn(\"nn.functional.tanh is deprecated. Use torch.tanh instead.\")\n"
     ]
    },
    {
     "name": "stdout",
     "output_type": "stream",
     "text": [
      "Epoch 0: loss 0.23515926493752387\n",
      "Epoch 1: loss 0.027926203284052112\n",
      "Epoch 2: loss 0.015699874850050095\n",
      "Epoch 3: loss 0.01316860222047375\n",
      "Epoch 4: loss 0.012089601147078698\n",
      "Epoch 5: loss 0.011510106464547495\n",
      "Epoch 6: loss 0.011428503169407767\n",
      "Epoch 7: loss 0.011324393653100537\n",
      "Epoch 8: loss 0.010540511308898848\n",
      "Epoch 9: loss 0.010737932812903197\n",
      "[0.00100402 0.00277778 0.00194932 ... 0.00110619 0.0005305  0.00471698]\n"
     ]
    }
   ],
   "source": [
    "from spotlight.sequence.implicit import ImplicitSequenceModel\n",
    "from spotlight.evaluation import sequence_mrr_score\n",
    "from spotlight.cross_validation import user_based_train_test_split\n",
    "\n",
    "train, test = user_based_train_test_split(dataset)\n",
    "\n",
    "train = train.to_sequence()\n",
    "test = test.to_sequence()\n",
    "\n",
    "model = ImplicitSequenceModel(n_iter=10,\n",
    "                              representation='cnn',\n",
    "                              loss='bpr')\n",
    "\n",
    "model.fit(train, verbose=True)\n",
    "\n",
    "mrr_score = sequence_mrr_score(model, test)\n",
    "print(mrr_score)"
   ]
  },
  {
   "cell_type": "code",
   "execution_count": null,
   "metadata": {},
   "outputs": [],
   "source": [
    "model.fit(dataset.to_sequence(), verbose=True)"
   ]
  },
  {
   "cell_type": "markdown",
   "metadata": {},
   "source": [
    "## Generating Predictions from the Sequential Model"
   ]
  },
  {
   "cell_type": "code",
   "execution_count": 18,
   "metadata": {},
   "outputs": [
    {
     "data": {
      "text/plain": [
       "array([ 0.      , 16.237215, 11.529311, ..., -2.713985, -2.403066,\n",
       "       -3.747315], dtype=float32)"
      ]
     },
     "execution_count": 18,
     "metadata": {},
     "output_type": "execute_result"
    }
   ],
   "source": [
    "model.predict(sequences=np.array([1, 2, 3, 4, 5]))"
   ]
  },
  {
   "cell_type": "code",
   "execution_count": 19,
   "metadata": {},
   "outputs": [],
   "source": [
    "import difflib\n",
    "\n",
    "def get_movie_id(movie_title, metadata):\n",
    "    \n",
    "    existing_titles = list(metadata['original_title'].values)\n",
    "    closest_titles = difflib.get_close_matches(movie_title, existing_titles)\n",
    "    movie_id = metadata[metadata['original_title'] == closest_titles[0]]['movieId'].values[0]\n",
    "    return movie_id\n",
    "\n",
    "def recommend_next_movies(movies, metadata, model, n_movies=5):\n",
    "    \n",
    "    movie_ids = [get_movie_id(movie, metadata) for movie in movies]\n",
    "    pred = model.predict(sequences=np.array(movie_ids))\n",
    "    indices = np.argpartition(pred, -n_movies)[-n_movies:]\n",
    "    best_movie_ids = indices[np.argsort(pred[indices])]\n",
    "    return [get_metadata(movie_id + 1, metadata) for movie_id in best_movie_ids]"
   ]
  },
  {
   "cell_type": "code",
   "execution_count": 24,
   "metadata": {},
   "outputs": [
    {
     "name": "stderr",
     "output_type": "stream",
     "text": [
      "/Users/amol/opt/anaconda3/lib/python3.7/site-packages/torch/nn/functional.py:1628: UserWarning: nn.functional.tanh is deprecated. Use torch.tanh instead.\n",
      "  warnings.warn(\"nn.functional.tanh is deprecated. Use torch.tanh instead.\")\n"
     ]
    },
    {
     "data": {
      "text/plain": [
       "[[{'original_title': 'Azúcar amarga',\n",
       "   'release_date': '1996-02-10',\n",
       "   'genres': \"[{'id': 18, 'name': 'Drama'}, {'id': 10749, 'name': 'Romance'}]\"}],\n",
       " [{'original_title': 'The American President',\n",
       "   'release_date': '1995-11-17',\n",
       "   'genres': \"[{'id': 35, 'name': 'Comedy'}, {'id': 18, 'name': 'Drama'}, {'id': 10749, 'name': 'Romance'}]\"}],\n",
       " [{'original_title': 'Jaws 2',\n",
       "   'release_date': '1978-06-16',\n",
       "   'genres': \"[{'id': 27, 'name': 'Horror'}, {'id': 53, 'name': 'Thriller'}]\"}],\n",
       " [{'original_title': 'Robin Hood',\n",
       "   'release_date': '1973-11-08',\n",
       "   'genres': \"[{'id': 16, 'name': 'Animation'}, {'id': 10751, 'name': 'Family'}]\"}],\n",
       " [{'original_title': 'Touch of Evil',\n",
       "   'release_date': '1958-04-23',\n",
       "   'genres': \"[{'id': 18, 'name': 'Drama'}, {'id': 53, 'name': 'Thriller'}, {'id': 80, 'name': 'Crime'}]\"}]]"
      ]
     },
     "execution_count": 24,
     "metadata": {},
     "output_type": "execute_result"
    }
   ],
   "source": [
    "movies = ['Shallow Grave', 'Twilight', 'Star Wars', 'Harry Potter']\n",
    "recommend_next_movies(movies, full_metadata, model, n_movies=5)"
   ]
  }
 ],
 "metadata": {
  "kernelspec": {
   "display_name": "Python 3",
   "language": "python",
   "name": "python3"
  },
  "language_info": {
   "codemirror_mode": {
    "name": "ipython",
    "version": 3
   },
   "file_extension": ".py",
   "mimetype": "text/x-python",
   "name": "python",
   "nbconvert_exporter": "python",
   "pygments_lexer": "ipython3",
   "version": "3.7.6"
  }
 },
 "nbformat": 4,
 "nbformat_minor": 4
}
